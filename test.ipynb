{
 "cells": [
  {
   "cell_type": "code",
   "execution_count": null,
   "metadata": {},
   "outputs": [],
   "source": [
    "import torch\n",
    "from training.summary.datamodule import SummaryDataset\n",
    "from transformers import ViTImageProcessor\n",
    "from tqdm import tqdm\n",
    "import matplotlib.pyplot as plt\n",
    "import cv2\n",
    "import seaborn as sns\n",
    "import numpy as np\n",
    "from moviepy.editor import VideoFileClip, concatenate_videoclips\n",
    "from tqdm import tqdm\n",
    "\n",
    "from v2021 import SummaryModel"
   ]
  },
  {
   "cell_type": "code",
   "execution_count": null,
   "metadata": {},
   "outputs": [],
   "source": [
    "preprocessor = ViTImageProcessor.from_pretrained(\n",
    "    \"google/vit-base-patch16-224\", size=224, device='cuda'\n",
    ")"
   ]
  },
  {
   "cell_type": "code",
   "execution_count": null,
   "metadata": {},
   "outputs": [],
   "source": [
    "SAMPLE_EVERY_SEC = 2\n",
    "\n",
    "video_path = 'videos/sample.mp4'\n",
    "\n",
    "cap = cv2.VideoCapture(video_path)\n",
    "\n",
    "n_frames = cap.get(cv2.CAP_PROP_FRAME_COUNT)\n",
    "fps = cap.get(cv2.CAP_PROP_FPS)\n",
    "\n",
    "video_len = n_frames / fps\n",
    "\n",
    "print(f'Video length {video_len:.2f} seconds!')\n",
    "\n",
    "frames = []\n",
    "last_collected = -1\n",
    "\n",
    "with tqdm(total=n_frames, desc=\"Processing frames\") as pbar:\n",
    "    while cap.isOpened():\n",
    "        ret, frame = cap.read()\n",
    "        if not ret:\n",
    "            break\n",
    "\n",
    "        timestamp = cap.get(cv2.CAP_PROP_POS_MSEC)\n",
    "        second = timestamp // 1000\n",
    "\n",
    "        if second % SAMPLE_EVERY_SEC == 0 and second != last_collected:\n",
    "            last_collected = second\n",
    "            frames.append(frame)\n",
    "        pbar.update(1)\n",
    "\n",
    "features = preprocessor(images=frames, return_tensors=\"pt\")[\"pixel_values\"]\n",
    "\n",
    "print(features.shape)"
   ]
  },
  {
   "cell_type": "code",
   "execution_count": null,
   "metadata": {},
   "outputs": [],
   "source": [
    "plt.figure(figsize=(10, 10))\n",
    "plt.imshow(features[0].numpy().transpose(1, 2, 0)[:, :, ::-1])"
   ]
  },
  {
   "cell_type": "code",
   "execution_count": null,
   "metadata": {},
   "outputs": [],
   "source": [
    "model = SummaryModel.load_from_checkpoint('summary.ckpt')\n",
    "model.to('cuda')\n",
    "model.eval()"
   ]
  },
  {
   "cell_type": "code",
   "execution_count": null,
   "metadata": {},
   "outputs": [],
   "source": [
    "features = features.to('cuda')\n",
    "\n",
    "y_pred = []\n",
    "\n",
    "for frame in tqdm(features):\n",
    "    y_p = model(frame.unsqueeze(0))\n",
    "    y_p = torch.sigmoid(y_p)\n",
    "\n",
    "    y_pred.append(y_p.cpu().detach().numpy().squeeze())\n",
    "\n",
    "y_pred = np.array(y_pred)\n",
    "\n",
    "sns.displot(y_pred)"
   ]
  },
  {
   "cell_type": "code",
   "execution_count": null,
   "metadata": {},
   "outputs": [],
   "source": [
    "THRESHOLD = 0.205\n",
    "total_secs = 0\n",
    "\n",
    "for i, y_p in enumerate(y_pred):\n",
    "    if y_p >= THRESHOLD:\n",
    "        print(i * SAMPLE_EVERY_SEC)\n",
    "        total_secs += SAMPLE_EVERY_SEC\n",
    "\n",
    "total_secs"
   ]
  },
  {
   "cell_type": "code",
   "execution_count": null,
   "metadata": {},
   "outputs": [],
   "source": [
    "clip = VideoFileClip(video_path)\n",
    "\n",
    "subclips = []\n",
    "total_duration = 0\n",
    "\n",
    "for i, y_p in tqdm(enumerate(y_pred), total=len(y_pred)):\n",
    "    sec = i * SAMPLE_EVERY_SEC\n",
    "\n",
    "    if y_p >= THRESHOLD:\n",
    "        subclip = clip.subclip(sec, sec + SAMPLE_EVERY_SEC)\n",
    "        subclips.append(subclip)\n",
    "        total_duration += subclip.duration\n",
    "\n",
    "result = concatenate_videoclips(subclips)\n",
    "\n",
    "result.write_videofile(\"videos/result.mp4\")\n",
    "\n",
    "result.ipython_display(width=720, maxduration=total_duration)"
   ]
  },
  {
   "cell_type": "code",
   "execution_count": null,
   "metadata": {},
   "outputs": [],
   "source": []
  }
 ],
 "metadata": {
  "kernelspec": {
   "display_name": "video_summary",
   "language": "python",
   "name": "python3"
  },
  "language_info": {
   "codemirror_mode": {
    "name": "ipython",
    "version": 3
   },
   "file_extension": ".py",
   "mimetype": "text/x-python",
   "name": "python",
   "nbconvert_exporter": "python",
   "pygments_lexer": "ipython3",
   "version": "3.10.11"
  }
 },
 "nbformat": 4,
 "nbformat_minor": 2
}
